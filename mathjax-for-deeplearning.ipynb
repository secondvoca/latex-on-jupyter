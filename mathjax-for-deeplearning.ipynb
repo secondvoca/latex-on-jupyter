{
 "cells": [
  {
   "cell_type": "markdown",
   "id": "8b7cf4ed",
   "metadata": {},
   "source": [
    "# 1. scalers, vectors, matrices and tensors\n",
    "\n",
    "<div style=\"margin-left: 2em; font-size: 2rem\">\n",
    "    scaler: (in italic, lower-case), $ s \\in \\mathbb{R},\\ n \\in \\mathbb{N} $ <br>\n",
    "    vector: (in italic, lower-case, bold), $ \\boldsymbol{x} = \\left[ \\matrix{x_1 \\cr x_2} \\right],\\ \\boldsymbol{x} \\in \\mathbb{R}^2 $ <br>\n",
    "    matrix: (in bold, upper-case), $ \\boldsymbol{A} \\in \\mathbb{R}^{m×n},\\ \\boldsymbol{A}_{m,n}$(lower right element)$,\\ \\boldsymbol{A}_{i,:} $(i-th row) <br>\n",
    "    tensor: $ \\boldsymbol{\\mathsf{A}},\\ \\boldsymbol{\\mathsf{A}}_{i,j,k} $ <br><br>\n",
    "    transpose: $ (\\boldsymbol{A}^\\top)_{i,j} = \\boldsymbol{A}_{j,i}$\n",
    "</div>"
   ]
  },
  {
   "cell_type": "markdown",
   "id": "8023e186",
   "metadata": {},
   "source": [
    "# 2. Multiplying Matrices and Vectors\n",
    "\n",
    "<div style=\"margin-left: 2em; font-size: 2rem\">\n",
    "    product: $ \\boldsymbol{A} \\in \\mathbb{R}^{m×n},\\ \\boldsymbol{B} \\in \\mathbb{R}^{n×p},\\ \\boldsymbol{C} \\in \\mathbb{R}^{m×p},\\ \\boldsymbol{C}=\\boldsymbol{A}\\boldsymbol{B} $ <br><br>\n",
    "    $$ \\boldsymbol{C}_{i,j}=\\sum_{k}\\boldsymbol{A}_{i,k}\\boldsymbol{B}_{k,j} $$ <br>\n",
    "    elemental-wise, Hadamard product: $ \\boldsymbol{A} \\odot \\boldsymbol{B} $\n",
    "</div>\n",
    "  "
   ]
  },
  {
   "cell_type": "markdown",
   "id": "c842ddb8",
   "metadata": {},
   "source": [
    "# 3. Identity and Inverse Matrices\n",
    "\n",
    "<div style=\"margin-left: 2em; font-size: 2rem\">\n",
    "    identity matrix: $ \\forall \\boldsymbol{x} \\in \\mathbb{R}^n,\\ \\boldsymbol{I}_n\\boldsymbol{x}=\\boldsymbol{x} $ <br>\n",
    "    inverse matrix: $ \\boldsymbol{A}^{-1}\\boldsymbol{A}=\\boldsymbol{I}_n $\n",
    "</div>"
   ]
  },
  {
   "cell_type": "markdown",
   "id": "cd6f56f6",
   "metadata": {},
   "source": [
    "# 4. Linear Dependance and Span\n",
    "\n",
    "<div style=\"margin-left: 2em; font-size: 2rem\">\n",
    "    linear combination: $$ \\boldsymbol{A}\\boldsymbol{x}=\\sum_i\\boldsymbol{x}_i\\boldsymbol{A}_{:,i} $$ <br>\n",
    "    column space, range of $\\boldsymbol{A}$ <br>\n",
    "    A square matrix with linearly dependant columns is known as <b><i>singular</i></b>.\n",
    "</div>"
   ]
  },
  {
   "cell_type": "markdown",
   "id": "30cc0fb6",
   "metadata": {},
   "source": [
    "# 5. Norm\n",
    "\n",
    "<div style=\"margin-left: 2em; font-size: 2rem\">\n",
    "    Norms, including the $L^p$ norm, are functions mapping vectors to non-negative values. <br>\n",
    "    for $ p \\in \\mathbb{R},\\ p \\geqq 1 $: <br> $$ {\\parallel{\\boldsymbol{x}}\\parallel}_p=\\left( \\sum_i|\\boldsymbol{x}_i|^p \\right)^{\\frac{1}{p}} $$ <br>\n",
    "    required properties: <br>\n",
    "    $$f(\\boldsymbol{x})=0 \\Rightarrow \\boldsymbol{x}=\\boldsymbol{0}$$ <br>\n",
    "    $$f(\\boldsymbol{x}+\\boldsymbol{y}) \\leqq f(\\boldsymbol{x})+f(\\boldsymbol{y})$$ <br>\n",
    "    $$\\forall \\alpha \\in \\mathbb{R},\\ f(\\alpha\\boldsymbol{x}) = |\\alpha|f(\\boldsymbol{x})$$ <br>\n",
    "    The $L^2$ norm, with $p=2$, is known as the Euclidian norm. It is often denoted simply as $\\parallel{\\boldsymbol{x}}\\parallel$, with the subscript 2 omitted. <br><br>\n",
    "    The derivatives of the squared $L^2$ norm with respect to each element of $\\boldsymbol{x}$ each depend only on the corresponding element of $\\boldsymbol{x}$, while all of the derivatives of the $L^2$ norm depend on the entire vector. <br><br>\n",
    "    Max norm, $L^\\infty$, ${\\parallel{\\boldsymbol{L}}\\parallel}_\\infty=\\underset{i}{\\mathrm{max}}|x_i| $ <br>\n",
    "    Frobenious norm, $${\\parallel{\\boldsymbol{A}}\\parallel}_F=\\sqrt{\\sum_{i,j}𝑨_{i,j}^2}$$\n",
    "</div>"
   ]
  },
  {
   "cell_type": "markdown",
   "id": "b3215d8b",
   "metadata": {},
   "source": []
  }
 ],
 "metadata": {
  "kernelspec": {
   "display_name": "Python 3 (ipykernel)",
   "language": "python",
   "name": "python3"
  },
  "language_info": {
   "codemirror_mode": {
    "name": "ipython",
    "version": 3
   },
   "file_extension": ".py",
   "mimetype": "text/x-python",
   "name": "python",
   "nbconvert_exporter": "python",
   "pygments_lexer": "ipython3",
   "version": "3.9.15"
  }
 },
 "nbformat": 4,
 "nbformat_minor": 5
}
